{
 "cells": [
  {
   "cell_type": "code",
   "execution_count": 1,
   "id": "974b04d1",
   "metadata": {},
   "outputs": [],
   "source": [
    "import matplotlib.pyplot as plt\n",
    "import numba as nb\n",
    "import numpy  as np\n",
    "import pandas as pd\n",
    "from scipy import optimize\n",
    "%matplotlib inline\n",
    "\n",
    "import binopt\n",
    "from scipy import special as sp\n"
   ]
  },
  {
   "cell_type": "code",
   "execution_count": 2,
   "id": "90c63488",
   "metadata": {},
   "outputs": [],
   "source": [
    "csv = np.genfromtxt ('BDTscores_2017muon_100bins.csv', delimiter=\",\")\n",
    "bins = csv[:,0]\n",
    "data = csv[:,1]\n",
    "mc = csv[:,2]"
   ]
  },
  {
   "cell_type": "code",
   "execution_count": 3,
   "id": "778ef399",
   "metadata": {},
   "outputs": [],
   "source": [
    "s = data\n",
    "b = mc\n",
    "\n",
    "X = np.concatenate([bins,bins])\n",
    "W = np.concatenate([s,b])\n",
    "Y = np.concatenate([np.ones(s.shape[0]), np.zeros(b.shape[0])])"
   ]
  },
  {
   "cell_type": "code",
   "execution_count": 4,
   "id": "5e64fb72-85a6-4297-ad8e-e10257bf558a",
   "metadata": {},
   "outputs": [
    {
     "data": {
      "text/plain": [
       "array([  0.665183,   0.742585,   0.724792,   1.095423,   0.927903,\n",
       "         1.005623,   1.764736,   0.789544,   1.897838,   2.155896,\n",
       "         1.515903,   3.175824,   2.726853,   2.391383,   3.398652,\n",
       "         2.962755,   3.659186,   2.285047,   3.477938,   2.966612,\n",
       "         2.813888,   3.755576,   4.124183,   3.88744 ,   2.358675,\n",
       "         3.136719,   3.14785 ,   3.60461 ,   4.040238,   3.559132,\n",
       "         3.490613,   3.670415,   2.871276,   4.098191,   3.924961,\n",
       "         3.787658,   4.001846,   3.610958,   5.003127,   4.157159,\n",
       "         3.80087 ,   5.237944,   4.723979,   5.04465 ,   4.955756,\n",
       "         5.939197,   4.385484,   6.207986,   5.627931,   4.787606,\n",
       "         3.537832,   5.559675,   5.771263,   6.255916,   5.310774,\n",
       "         5.312395,   5.467187,   6.75885 ,   6.485685,   6.287737,\n",
       "         7.450549,   6.527717,   6.50904 ,   7.720239,   7.342269,\n",
       "         6.988527,   7.739201,   9.319342,   6.494795,   6.123858,\n",
       "         9.889768,   9.700151,  10.357779,   9.987059,  10.340088,\n",
       "         9.17165 ,   9.62109 ,  10.323519,  11.817206,  11.979081,\n",
       "        14.79064 ,  15.583725,  14.6485  ,  15.863748,  15.490519,\n",
       "        18.898946,  20.45649 ,  21.234345,  25.083173,  24.089735,\n",
       "        25.624951,  26.593462,  36.366843,  37.626759,  44.509102,\n",
       "        51.146334,  61.242301,  80.164119, 100.329927,  56.939915])"
      ]
     },
     "execution_count": 4,
     "metadata": {},
     "output_type": "execute_result"
    }
   ],
   "source": [
    "b"
   ]
  },
  {
   "cell_type": "code",
   "execution_count": 5,
   "id": "6455321d-2b52-4963-8acc-7c58dc2e5375",
   "metadata": {},
   "outputs": [],
   "source": [
    "edge_bins = np.arange(0,1.01, 0.01)"
   ]
  },
  {
   "cell_type": "code",
   "execution_count": 7,
   "id": "c2b35b84-d4c8-46d3-b296-e5b54051492d",
   "metadata": {},
   "outputs": [
    {
     "name": "stdout",
     "output_type": "stream",
     "text": [
      "Will not return 32 bins.\n",
      "Too many events in bins [0 1 3 6]\n",
      "Returning with 20 bins\n"
     ]
    },
    {
     "data": {
      "text/plain": [
       "(array([5770.,  761.,  720.,  769.,  791.,  753.,  776.,  669.,  691.,\n",
       "         703.,  653.,  607.,  556.,  512.,  530.,  502.,  485.,  867.,\n",
       "         786.]),\n",
       " array([0.  , 0.01, 0.02, 0.03, 0.04, 0.05, 0.06, 0.07, 0.08, 0.09, 0.1 ,\n",
       "        0.11, 0.12, 0.13, 0.14, 0.15, 0.16, 0.17, 0.19, 1.  ]))"
      ]
     },
     "execution_count": 7,
     "metadata": {},
     "output_type": "execute_result"
    }
   ],
   "source": [
    "viv_get_equiprobable_binning(s, edge_bins, 32)"
   ]
  },
  {
   "cell_type": "code",
   "execution_count": 13,
   "id": "ade08a7d-2ebe-422c-818b-63d9f1491667",
   "metadata": {},
   "outputs": [
    {
     "name": "stdout",
     "output_type": "stream",
     "text": [
      "Will not return 22 bins.\n",
      "Too many events in bins [17 19]\n",
      "Returning with 21 bins\n"
     ]
    },
    {
     "data": {
      "text/plain": [
       "(array([ 46.89914 ,  49.701961,  46.475486,  52.756862,  45.486765,\n",
       "         51.728231,  50.274845,  40.933465,  57.001946,  31.354267,\n",
       "         60.589781,  49.172908,  25.624951,  62.960305,  37.626759,\n",
       "         44.509102,  51.146334,  61.242301,  80.164119, 157.269842]),\n",
       " array([0.  , 0.22, 0.36, 0.46, 0.56, 0.63, 0.7 , 0.75, 0.79, 0.83, 0.85,\n",
       "        0.88, 0.9 , 0.91, 0.93, 0.94, 0.95, 0.96, 0.97, 0.98, 1.  ]))"
      ]
     },
     "execution_count": 13,
     "metadata": {},
     "output_type": "execute_result"
    }
   ],
   "source": [
    "viv_get_equiprobable_binning(b, edge_bins, 22)"
   ]
  },
  {
   "cell_type": "code",
   "execution_count": 6,
   "id": "0b2bf015-0cf9-4808-9cf1-bacb3021df02",
   "metadata": {},
   "outputs": [],
   "source": [
    "def viv_get_equiprobable_binning(bin_heights, bin_edges, nbins):\n",
    "    cdf = np.cumsum(bin_heights)\n",
    "    target_events = cdf[-1] / nbins\n",
    "\n",
    "    bin_idxs = []\n",
    "    for idx in range(1, nbins):\n",
    "        target_bin = np.argmin(np.abs(cdf - idx * target_events))\n",
    "        bin_idxs.append(target_bin)\n",
    "   \n",
    "    if (len(bin_edges) - 1) not in bin_idxs:\n",
    "        bin_idxs.append(len(bin_edges) - 1)\n",
    "    if [0] not in bin_idxs:\n",
    "        bin_idxs = [0] + bin_idxs\n",
    "        \n",
    "    bin_idxs_arr, counts = np.unique(np.array(bin_idxs, dtype=np.int32),\n",
    "                                     return_counts=True)\n",
    "    big_bins = np.where(counts > 1)[0]\n",
    "    if big_bins.size > 0:\n",
    "        print(f'Will not return {nbins} bins.')\n",
    "        print(f'Too many events in bins {big_bins}')\n",
    "        print(f'Returning with {len(bin_idxs_arr)} bins')\n",
    "    equi_bin_edges = bin_edges[bin_idxs_arr]\n",
    "    \n",
    "    new_bin_heights = []\n",
    "    for lower, upper in zip(bin_idxs_arr[:-1], bin_idxs_arr[1:]):\n",
    "        new_bin_heights.append(bin_heights[lower:upper].sum())\n",
    " \n",
    "    return np.array(new_bin_heights), equi_bin_edges"
   ]
  },
  {
   "cell_type": "code",
   "execution_count": 331,
   "id": "04114765-71fd-4ab1-8da9-20eb53380620",
   "metadata": {},
   "outputs": [],
   "source": [
    "def viv_equiprobable_binning_cost(nbins, bin_heights):\n",
    "    cdf = np.cumsum(bin_heights)\n",
    "    target_events = cdf[-1] / nbins\n",
    "\n",
    "    bin_idxs = []\n",
    "    for idx in range(1, nbins):\n",
    "        target_bin = np.argmin(np.abs(cdf - idx * target_events))\n",
    "        bin_idxs.append(target_bin)\n",
    "\n",
    "    bin_idxs_arr= np.unique(bin_idxs).astype(np.int32)\n",
    "    \n",
    "    new_bin_heights = []\n",
    "    for lower, upper in zip(bin_idxs_arr[:-1], bin_idxs_arr[1:]):\n",
    "        new_bin_heights.append(bin_heights[lower:upper].sum())\n",
    "\n",
    "    probabilities = new_bin_heights / cdf[-1]\n",
    "        \n",
    "    return -np.sum(probabilities * np.log(probabilities))"
   ]
  },
  {
   "cell_type": "code",
   "execution_count": 334,
   "id": "d87d4869-3f94-46a9-b405-0b9dad61b605",
   "metadata": {},
   "outputs": [],
   "source": [
    "rng = np.random.default_rng(0)\n",
    "rands = rng.beta(1/2, 1/2, size=10000)\n",
    "dx = 1e-2\n",
    "bin_heights, bins = np.histogram(rands, bins=np.arange(0, 1, dx))"
   ]
  },
  {
   "cell_type": "code",
   "execution_count": 335,
   "id": "45535b46-4f60-44dd-996a-1a12d6841c25",
   "metadata": {},
   "outputs": [
    {
     "data": {
      "text/plain": [
       "[<matplotlib.lines.Line2D at 0x7f879fcd4a00>]"
      ]
     },
     "execution_count": 335,
     "metadata": {},
     "output_type": "execute_result"
    },
    {
     "data": {
      "image/png": "[encoded data removed]",
      "text/plain": [
       "<Figure size 432x288 with 1 Axes>"
      ]
     },
     "metadata": {
      "needs_background": "light"
     },
     "output_type": "display_data"
    }
   ],
   "source": [
    "rang = np.arange(20, 200, 1)\n",
    "plt.plot(rang,\n",
    "         [viv_equiprobable_binning_cost(x, bin_heights) for x in rang])"
   ]
  },
  {
   "cell_type": "code",
   "execution_count": null,
   "id": "66b45e7c-d263-4f52-8e95-d5e60385ff06",
   "metadata": {},
   "outputs": [],
   "source": []
  },
  {
   "cell_type": "code",
   "execution_count": null,
   "id": "d24ab6d2-5d92-4193-bf24-20c1d890cbce",
   "metadata": {},
   "outputs": [],
   "source": []
  },
  {
   "cell_type": "code",
   "execution_count": 255,
   "id": "d4761333-2bbb-45a6-80b4-a7ccc09585e4",
   "metadata": {},
   "outputs": [],
   "source": []
  },
  {
   "cell_type": "code",
   "execution_count": 256,
   "id": "6f6fff9d-2734-4929-8ae1-0352a11eb829",
   "metadata": {},
   "outputs": [],
   "source": [
    "new_bin_heights, equi_bin_edges = viv_get_equiprobable_binning(bin_heights, bins, 100)"
   ]
  },
  {
   "cell_type": "code",
   "execution_count": 257,
   "id": "f991d45a-ef58-4ec5-a8f5-6d58e08b38c0",
   "metadata": {},
   "outputs": [
    {
     "data": {
      "text/plain": [
       "array([152, 105, 121, 104, 101, 102,  99, 110,  98,  93, 103, 107,  95,\n",
       "       101, 103,  99, 103,  97, 103,  97, 105,  98,  98, 104,  98, 100,\n",
       "        99, 102, 101, 100, 100, 100,  99,  99,  99, 103, 100,  99,  99,\n",
       "       100, 103,  99,  97, 103, 101,  97,  99, 104,  99,  98, 102, 100,\n",
       "       100,  99, 100, 101, 100, 101,  98, 102,  99, 100, 100, 100,  99,\n",
       "       102,  98, 100, 101, 100, 101, 100,  99,  99, 102,  97, 102, 100,\n",
       "       100, 100,  99, 100, 101, 101,  98, 102,  99, 100, 100, 100, 101,\n",
       "       100,  99, 101, 100, 100, 100, 100, 101])"
      ]
     },
     "execution_count": 257,
     "metadata": {},
     "output_type": "execute_result"
    }
   ],
   "source": [
    "new_bin_heights"
   ]
  },
  {
   "cell_type": "code",
   "execution_count": 249,
   "id": "20f18b17-863c-423d-8710-948c7f2f81a5",
   "metadata": {},
   "outputs": [
    {
     "data": {
      "text/plain": [
       "55"
      ]
     },
     "execution_count": 249,
     "metadata": {},
     "output_type": "execute_result"
    }
   ],
   "source": [
    "len(new_bin_heights)"
   ]
  },
  {
   "cell_type": "code",
   "execution_count": 225,
   "id": "347ed21b-d503-480b-8600-4608f3c7cfb8",
   "metadata": {},
   "outputs": [
    {
     "data": {
      "text/plain": [
       "55"
      ]
     },
     "execution_count": 225,
     "metadata": {},
     "output_type": "execute_result"
    }
   ],
   "source": [
    "len(new_bin_heights)"
   ]
  },
  {
   "cell_type": "code",
   "execution_count": 226,
   "id": "e6cc6181-1f38-4750-b25f-beae46658323",
   "metadata": {},
   "outputs": [
    {
     "data": {
      "text/plain": [
       "56"
      ]
     },
     "execution_count": 226,
     "metadata": {},
     "output_type": "execute_result"
    }
   ],
   "source": [
    "len(equi_bin_edges)"
   ]
  },
  {
   "cell_type": "code",
   "execution_count": 203,
   "id": "a3552e95-9e0e-4112-8044-399dc45f5ca6",
   "metadata": {},
   "outputs": [
    {
     "data": {
      "text/plain": [
       "array([152,  67,  38, ...,   0,   0,   0])"
      ]
     },
     "execution_count": 203,
     "metadata": {},
     "output_type": "execute_result"
    }
   ],
   "source": [
    "bin_heights"
   ]
  },
  {
   "cell_type": "code",
   "execution_count": 138,
   "id": "d879bf32-5217-44fa-b0a9-26ec9204af72",
   "metadata": {},
   "outputs": [],
   "source": [
    "x, y = getEquiprobableBinning(bin_heights[None,:], bins[:-1], 20)"
   ]
  },
  {
   "cell_type": "code",
   "execution_count": 101,
   "id": "0bdb0f3e",
   "metadata": {},
   "outputs": [],
   "source": [
    "def getEquiprobableBinning(entryArray, edgesArray, nEquiprobableBins, includeOverflow=False, includeUnderflow=False, verbose=False):\n",
    "    if includeUnderflow:\n",
    "        start = 0\n",
    "    else:\n",
    "        start = 1 #Don't include underflow\n",
    "    stop = start + 1 #Initialize so that we start with checking the singular bin\n",
    "    if includeOverflow:\n",
    "        end = len(edgesArray) - 1 #nBinsX + 1 #one less since edgesArray is 1 greater than the entryArray in the same dimension\n",
    "    else:\n",
    "        end = len(edgesArray) - 1\n",
    "    binningArray = []\n",
    "    with np.errstate(divide='ignore'):\n",
    "        cdf = np.cumsum(entryArray, axis=1)\n",
    "        if start > 0:\n",
    "            cdf = cdf - cdf[:, 0] #adjust according to underflow selection\n",
    "        target = cdf[:, end] / np.int64(nEquiprobableBins)\n",
    "        #Only use the 0th systematic (nominal) to calculate things\n",
    "        binningArray.append(start)\n",
    "        for x in range(1, nEquiprobableBins):\n",
    "            targetBin = np.argmin(np.abs(cdf[0, :] - x * target))\n",
    "            binningArray.append(min(end-1, max(binningArray[-1]+1, targetBin)))\n",
    "        binningArray.append(end)\n",
    "        # print(binningArray)\n",
    "        if verbose: \n",
    "            print(\"Binning Array: {}\".format(binningArray))\n",
    "            print(\"Numpy Entry Array: {}\".format(entryArray))\n",
    "    ret = edgesArray[np.array(binningArray, dtype=np.int32)]\n",
    "    # print(ret)\n",
    "    temp = cdf[0, np.array(binningArray, dtype=np.int32)]\n",
    "    # print(\"integrals:\", temp[1:] - temp[:-1])\n",
    "    return binningArray, ret"
   ]
  },
  {
   "cell_type": "code",
   "execution_count": 110,
   "id": "0c9c1fb2-ec1b-466b-bfdc-a4d631be0abc",
   "metadata": {},
   "outputs": [],
   "source": [
    "bin_arr, equi_bins = getEquiprobableBinning(v, edge_bins[:-2], 25, includeUnderflow=False)"
   ]
  },
  {
   "cell_type": "code",
   "execution_count": 111,
   "id": "86fb1fb0-f6bd-4a7c-aeca-e09900c535b0",
   "metadata": {},
   "outputs": [],
   "source": [
    "new_bin_sizes = []\n",
    "for lower, upper in zip(bin_arr[:-1], bin_arr[1:]):\n",
    "    new_bin_sizes.append(b[lower:upper].sum())"
   ]
  },
  {
   "cell_type": "code",
   "execution_count": 112,
   "id": "ec690d1b-057e-45b9-91aa-49521bf88ab6",
   "metadata": {},
   "outputs": [
    {
     "data": {
      "text/plain": [
       "[1020.128426,\n",
       " 1084.463797,\n",
       " 1074.988926,\n",
       " 1103.239887,\n",
       " 1087.503779,\n",
       " 1003.870232,\n",
       " 1844.8574800000001,\n",
       " 1477.829283,\n",
       " 787.116619,\n",
       " 1497.118365,\n",
       " 1259.3542830000001,\n",
       " 1470.739249,\n",
       " 1573.412108,\n",
       " 1413.860778,\n",
       " 1357.0735020000002,\n",
       " 1202.657158,\n",
       " 1247.589795,\n",
       " 1414.9076340000001,\n",
       " 1382.565897,\n",
       " 1339.0445,\n",
       " 1315.129879,\n",
       " 1169.195001,\n",
       " 1477.2934599999999,\n",
       " 1246.77314,\n",
       " 1319.765896]"
      ]
     },
     "execution_count": 112,
     "metadata": {},
     "output_type": "execute_result"
    }
   ],
   "source": [
    "new_bin_sizes"
   ]
  },
  {
   "cell_type": "code",
   "execution_count": 97,
   "id": "3919b647-972d-4585-9713-ccd7d68a4901",
   "metadata": {},
   "outputs": [
    {
     "data": {
      "text/plain": [
       "array([[8620.020935, 1020.128426, 1084.463797, 1074.988926, 1103.239887,\n",
       "        1087.503779, 1003.870232,  985.844982,  859.012498,  708.677302,\n",
       "         769.151981,  787.116619,  807.186542,  689.931823,  685.312377,\n",
       "         574.041906,  744.070915,  726.668334,  514.26769 ,  523.077906,\n",
       "         536.066512,  508.351326,  491.216324,  414.293128,  391.3571  ,\n",
       "         474.613475,  491.102927,  482.400654,  360.740522,  359.515982,\n",
       "         330.356393,  339.990589,  279.142561,  298.100252,  279.111716,\n",
       "         332.423192,  263.839407,  280.781338,  258.751981,  327.254793,\n",
       "         298.820927,  203.256808,  196.138512,  357.094857,  201.607049,\n",
       "         202.531689,  276.262822,  263.604375,  185.625636,  209.412929,\n",
       "         191.518805,  233.818538,  182.366026,  235.730535,  143.379492,\n",
       "         170.511101,  157.805382,  206.618211,  171.265437,  178.016885,\n",
       "         165.569835,  166.305603,  172.669359,  108.749671,  176.469505,\n",
       "         151.174988,  163.523523,  134.464071,  155.69322 ,  196.692544,\n",
       "         134.059896,  160.252115,  116.223472,   88.740126,  112.918962,\n",
       "          91.590749,  145.039333,  106.255659,  120.929085,  107.701712,\n",
       "         116.700917,  152.099737,  100.497865,   98.278148,   94.760973,\n",
       "         149.58641 ,  108.908354,   75.813023,  140.613717,   78.902819,\n",
       "          92.946476,  126.592588,  110.977587,  115.613009,   88.198917,\n",
       "          78.198853,   99.275903,   54.13824 ,   69.276859,   13.050648]])"
      ]
     },
     "execution_count": 97,
     "metadata": {},
     "output_type": "execute_result"
    }
   ],
   "source": [
    "v"
   ]
  },
  {
   "cell_type": "code",
   "execution_count": 100,
   "id": "43bbe590-d742-4959-b433-6190e30da93f",
   "metadata": {},
   "outputs": [
    {
     "data": {
      "text/plain": [
       "array([8620.020935, 1020.128426, 1084.463797, 1074.988926, 1103.239887,\n",
       "       1087.503779, 1003.870232,  985.844982,  859.012498,  708.677302,\n",
       "        769.151981,  787.116619,  807.186542,  689.931823,  685.312377,\n",
       "        574.041906,  744.070915,  726.668334,  514.26769 ,  523.077906,\n",
       "        536.066512,  508.351326,  491.216324,  414.293128,  391.3571  ,\n",
       "        474.613475,  491.102927,  482.400654,  360.740522,  359.515982,\n",
       "        330.356393,  339.990589,  279.142561,  298.100252,  279.111716,\n",
       "        332.423192,  263.839407,  280.781338,  258.751981,  327.254793,\n",
       "        298.820927,  203.256808,  196.138512,  357.094857,  201.607049,\n",
       "        202.531689,  276.262822,  263.604375,  185.625636,  209.412929,\n",
       "        191.518805,  233.818538,  182.366026,  235.730535,  143.379492,\n",
       "        170.511101,  157.805382,  206.618211,  171.265437,  178.016885,\n",
       "        165.569835,  166.305603,  172.669359,  108.749671,  176.469505,\n",
       "        151.174988,  163.523523,  134.464071,  155.69322 ,  196.692544,\n",
       "        134.059896,  160.252115,  116.223472,   88.740126,  112.918962,\n",
       "         91.590749,  145.039333,  106.255659,  120.929085,  107.701712,\n",
       "        116.700917,  152.099737,  100.497865,   98.278148,   94.760973,\n",
       "        149.58641 ,  108.908354,   75.813023,  140.613717,   78.902819,\n",
       "         92.946476,  126.592588,  110.977587,  115.613009,   88.198917,\n",
       "         78.198853,   99.275903,   54.13824 ,   69.276859,   13.050648])"
      ]
     },
     "execution_count": 100,
     "metadata": {},
     "output_type": "execute_result"
    }
   ],
   "source": [
    "v.ravel()"
   ]
  },
  {
   "cell_type": "code",
   "execution_count": null,
   "id": "5035e9b5-7c19-453b-98a0-5fefa21bc310",
   "metadata": {},
   "outputs": [],
   "source": []
  }
 ],
 "metadata": {
  "kernelspec": {
   "display_name": "Python 3",
   "language": "python",
   "name": "python3"
  },
  "language_info": {
   "codemirror_mode": {
    "name": "ipython",
    "version": 3
   },
   "file_extension": ".py",
   "mimetype": "text/x-python",
   "name": "python",
   "nbconvert_exporter": "python",
   "pygments_lexer": "ipython3",
   "version": "3.8.10"
  }
 },
 "nbformat": 4,
 "nbformat_minor": 5
}
